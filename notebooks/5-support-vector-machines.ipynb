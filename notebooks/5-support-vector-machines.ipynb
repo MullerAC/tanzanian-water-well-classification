{
 "cells": [
  {
   "cell_type": "markdown",
   "metadata": {},
   "source": [
    "# Support Vector Machines"
   ]
  },
  {
   "cell_type": "markdown",
   "metadata": {},
   "source": [
    "The SVM model is a distance-based algorithm, similar to KNN, but has more tunable parameters, so I wanted to try it out. This one also takes the longest to run, making tuning those parameters a real chore."
   ]
  },
  {
   "cell_type": "code",
   "execution_count": 1,
   "metadata": {},
   "outputs": [],
   "source": [
    "import pandas as pd\n",
    "from scripts import get_metrics\n",
    "from sklearn.model_selection import train_test_split\n",
    "from sklearn.svm import SVC"
   ]
  },
  {
   "cell_type": "code",
   "execution_count": 2,
   "metadata": {},
   "outputs": [
    {
     "data": {
      "text/html": [
       "<div>\n",
       "<style scoped>\n",
       "    .dataframe tbody tr th:only-of-type {\n",
       "        vertical-align: middle;\n",
       "    }\n",
       "\n",
       "    .dataframe tbody tr th {\n",
       "        vertical-align: top;\n",
       "    }\n",
       "\n",
       "    .dataframe thead th {\n",
       "        text-align: right;\n",
       "    }\n",
       "</style>\n",
       "<table border=\"1\" class=\"dataframe\">\n",
       "  <thead>\n",
       "    <tr style=\"text-align: right;\">\n",
       "      <th></th>\n",
       "      <th>status_group</th>\n",
       "      <th>longitude</th>\n",
       "      <th>latitude</th>\n",
       "      <th>population</th>\n",
       "      <th>construction_year</th>\n",
       "      <th>funder_communal standpipe</th>\n",
       "      <th>funder_communal standpipe multiple</th>\n",
       "      <th>funder_hand pump</th>\n",
       "      <th>funder_improved spring</th>\n",
       "      <th>funder_other</th>\n",
       "      <th>...</th>\n",
       "      <th>source_other</th>\n",
       "      <th>source_rainwater harvesting</th>\n",
       "      <th>source_river</th>\n",
       "      <th>source_shallow well</th>\n",
       "      <th>source_spring</th>\n",
       "      <th>waterpoint_type_communal standpipe</th>\n",
       "      <th>waterpoint_type_communal standpipe multiple</th>\n",
       "      <th>waterpoint_type_hand pump</th>\n",
       "      <th>waterpoint_type_improved spring</th>\n",
       "      <th>waterpoint_type_other</th>\n",
       "    </tr>\n",
       "    <tr>\n",
       "      <th>id</th>\n",
       "      <th></th>\n",
       "      <th></th>\n",
       "      <th></th>\n",
       "      <th></th>\n",
       "      <th></th>\n",
       "      <th></th>\n",
       "      <th></th>\n",
       "      <th></th>\n",
       "      <th></th>\n",
       "      <th></th>\n",
       "      <th></th>\n",
       "      <th></th>\n",
       "      <th></th>\n",
       "      <th></th>\n",
       "      <th></th>\n",
       "      <th></th>\n",
       "      <th></th>\n",
       "      <th></th>\n",
       "      <th></th>\n",
       "      <th></th>\n",
       "      <th></th>\n",
       "    </tr>\n",
       "  </thead>\n",
       "  <tbody>\n",
       "    <tr>\n",
       "      <th>69572</th>\n",
       "      <td>functional</td>\n",
       "      <td>0.496455</td>\n",
       "      <td>0.168353</td>\n",
       "      <td>0.003541</td>\n",
       "      <td>0.735849</td>\n",
       "      <td>1.0</td>\n",
       "      <td>0.0</td>\n",
       "      <td>0.0</td>\n",
       "      <td>0.0</td>\n",
       "      <td>0.0</td>\n",
       "      <td>...</td>\n",
       "      <td>0.0</td>\n",
       "      <td>0.0</td>\n",
       "      <td>0.0</td>\n",
       "      <td>0.0</td>\n",
       "      <td>1.0</td>\n",
       "      <td>1.0</td>\n",
       "      <td>0.0</td>\n",
       "      <td>0.0</td>\n",
       "      <td>0.0</td>\n",
       "      <td>0.0</td>\n",
       "    </tr>\n",
       "    <tr>\n",
       "      <th>8776</th>\n",
       "      <td>functional</td>\n",
       "      <td>0.474167</td>\n",
       "      <td>0.892122</td>\n",
       "      <td>0.009148</td>\n",
       "      <td>0.943396</td>\n",
       "      <td>1.0</td>\n",
       "      <td>0.0</td>\n",
       "      <td>0.0</td>\n",
       "      <td>0.0</td>\n",
       "      <td>0.0</td>\n",
       "      <td>...</td>\n",
       "      <td>0.0</td>\n",
       "      <td>1.0</td>\n",
       "      <td>0.0</td>\n",
       "      <td>0.0</td>\n",
       "      <td>0.0</td>\n",
       "      <td>1.0</td>\n",
       "      <td>0.0</td>\n",
       "      <td>0.0</td>\n",
       "      <td>0.0</td>\n",
       "      <td>0.0</td>\n",
       "    </tr>\n",
       "    <tr>\n",
       "      <th>34310</th>\n",
       "      <td>functional</td>\n",
       "      <td>0.731374</td>\n",
       "      <td>0.734967</td>\n",
       "      <td>0.008164</td>\n",
       "      <td>0.924528</td>\n",
       "      <td>0.0</td>\n",
       "      <td>1.0</td>\n",
       "      <td>0.0</td>\n",
       "      <td>0.0</td>\n",
       "      <td>0.0</td>\n",
       "      <td>...</td>\n",
       "      <td>0.0</td>\n",
       "      <td>0.0</td>\n",
       "      <td>0.0</td>\n",
       "      <td>0.0</td>\n",
       "      <td>0.0</td>\n",
       "      <td>0.0</td>\n",
       "      <td>1.0</td>\n",
       "      <td>0.0</td>\n",
       "      <td>0.0</td>\n",
       "      <td>0.0</td>\n",
       "    </tr>\n",
       "    <tr>\n",
       "      <th>67743</th>\n",
       "      <td>non functional</td>\n",
       "      <td>0.826875</td>\n",
       "      <td>0.046394</td>\n",
       "      <td>0.001869</td>\n",
       "      <td>0.490566</td>\n",
       "      <td>0.0</td>\n",
       "      <td>1.0</td>\n",
       "      <td>0.0</td>\n",
       "      <td>0.0</td>\n",
       "      <td>0.0</td>\n",
       "      <td>...</td>\n",
       "      <td>0.0</td>\n",
       "      <td>0.0</td>\n",
       "      <td>0.0</td>\n",
       "      <td>0.0</td>\n",
       "      <td>0.0</td>\n",
       "      <td>0.0</td>\n",
       "      <td>1.0</td>\n",
       "      <td>0.0</td>\n",
       "      <td>0.0</td>\n",
       "      <td>0.0</td>\n",
       "    </tr>\n",
       "    <tr>\n",
       "      <th>19728</th>\n",
       "      <td>functional</td>\n",
       "      <td>0.141899</td>\n",
       "      <td>0.922364</td>\n",
       "      <td>0.013692</td>\n",
       "      <td>0.852830</td>\n",
       "      <td>1.0</td>\n",
       "      <td>0.0</td>\n",
       "      <td>0.0</td>\n",
       "      <td>0.0</td>\n",
       "      <td>0.0</td>\n",
       "      <td>...</td>\n",
       "      <td>0.0</td>\n",
       "      <td>1.0</td>\n",
       "      <td>0.0</td>\n",
       "      <td>0.0</td>\n",
       "      <td>0.0</td>\n",
       "      <td>1.0</td>\n",
       "      <td>0.0</td>\n",
       "      <td>0.0</td>\n",
       "      <td>0.0</td>\n",
       "      <td>0.0</td>\n",
       "    </tr>\n",
       "    <tr>\n",
       "      <th>...</th>\n",
       "      <td>...</td>\n",
       "      <td>...</td>\n",
       "      <td>...</td>\n",
       "      <td>...</td>\n",
       "      <td>...</td>\n",
       "      <td>...</td>\n",
       "      <td>...</td>\n",
       "      <td>...</td>\n",
       "      <td>...</td>\n",
       "      <td>...</td>\n",
       "      <td>...</td>\n",
       "      <td>...</td>\n",
       "      <td>...</td>\n",
       "      <td>...</td>\n",
       "      <td>...</td>\n",
       "      <td>...</td>\n",
       "      <td>...</td>\n",
       "      <td>...</td>\n",
       "      <td>...</td>\n",
       "      <td>...</td>\n",
       "      <td>...</td>\n",
       "    </tr>\n",
       "    <tr>\n",
       "      <th>60739</th>\n",
       "      <td>functional</td>\n",
       "      <td>0.704287</td>\n",
       "      <td>0.788246</td>\n",
       "      <td>0.004066</td>\n",
       "      <td>0.735849</td>\n",
       "      <td>1.0</td>\n",
       "      <td>0.0</td>\n",
       "      <td>0.0</td>\n",
       "      <td>0.0</td>\n",
       "      <td>0.0</td>\n",
       "      <td>...</td>\n",
       "      <td>0.0</td>\n",
       "      <td>0.0</td>\n",
       "      <td>0.0</td>\n",
       "      <td>0.0</td>\n",
       "      <td>1.0</td>\n",
       "      <td>1.0</td>\n",
       "      <td>0.0</td>\n",
       "      <td>0.0</td>\n",
       "      <td>0.0</td>\n",
       "      <td>0.0</td>\n",
       "    </tr>\n",
       "    <tr>\n",
       "      <th>27263</th>\n",
       "      <td>functional</td>\n",
       "      <td>0.525501</td>\n",
       "      <td>0.242120</td>\n",
       "      <td>0.001803</td>\n",
       "      <td>0.679245</td>\n",
       "      <td>1.0</td>\n",
       "      <td>0.0</td>\n",
       "      <td>0.0</td>\n",
       "      <td>0.0</td>\n",
       "      <td>0.0</td>\n",
       "      <td>...</td>\n",
       "      <td>0.0</td>\n",
       "      <td>0.0</td>\n",
       "      <td>1.0</td>\n",
       "      <td>0.0</td>\n",
       "      <td>0.0</td>\n",
       "      <td>1.0</td>\n",
       "      <td>0.0</td>\n",
       "      <td>0.0</td>\n",
       "      <td>0.0</td>\n",
       "      <td>0.0</td>\n",
       "    </tr>\n",
       "    <tr>\n",
       "      <th>37057</th>\n",
       "      <td>functional</td>\n",
       "      <td>0.410685</td>\n",
       "      <td>0.272182</td>\n",
       "      <td>0.003836</td>\n",
       "      <td>0.924528</td>\n",
       "      <td>0.0</td>\n",
       "      <td>0.0</td>\n",
       "      <td>1.0</td>\n",
       "      <td>0.0</td>\n",
       "      <td>0.0</td>\n",
       "      <td>...</td>\n",
       "      <td>0.0</td>\n",
       "      <td>0.0</td>\n",
       "      <td>0.0</td>\n",
       "      <td>0.0</td>\n",
       "      <td>0.0</td>\n",
       "      <td>0.0</td>\n",
       "      <td>0.0</td>\n",
       "      <td>1.0</td>\n",
       "      <td>0.0</td>\n",
       "      <td>0.0</td>\n",
       "    </tr>\n",
       "    <tr>\n",
       "      <th>31282</th>\n",
       "      <td>functional</td>\n",
       "      <td>0.582432</td>\n",
       "      <td>0.494872</td>\n",
       "      <td>0.009148</td>\n",
       "      <td>0.841509</td>\n",
       "      <td>0.0</td>\n",
       "      <td>0.0</td>\n",
       "      <td>1.0</td>\n",
       "      <td>0.0</td>\n",
       "      <td>0.0</td>\n",
       "      <td>...</td>\n",
       "      <td>0.0</td>\n",
       "      <td>0.0</td>\n",
       "      <td>0.0</td>\n",
       "      <td>1.0</td>\n",
       "      <td>0.0</td>\n",
       "      <td>0.0</td>\n",
       "      <td>0.0</td>\n",
       "      <td>1.0</td>\n",
       "      <td>0.0</td>\n",
       "      <td>0.0</td>\n",
       "    </tr>\n",
       "    <tr>\n",
       "      <th>26348</th>\n",
       "      <td>functional</td>\n",
       "      <td>0.791290</td>\n",
       "      <td>0.460237</td>\n",
       "      <td>0.004885</td>\n",
       "      <td>0.792453</td>\n",
       "      <td>0.0</td>\n",
       "      <td>0.0</td>\n",
       "      <td>1.0</td>\n",
       "      <td>0.0</td>\n",
       "      <td>0.0</td>\n",
       "      <td>...</td>\n",
       "      <td>0.0</td>\n",
       "      <td>0.0</td>\n",
       "      <td>0.0</td>\n",
       "      <td>1.0</td>\n",
       "      <td>0.0</td>\n",
       "      <td>0.0</td>\n",
       "      <td>0.0</td>\n",
       "      <td>1.0</td>\n",
       "      <td>0.0</td>\n",
       "      <td>0.0</td>\n",
       "    </tr>\n",
       "  </tbody>\n",
       "</table>\n",
       "<p>59400 rows × 101 columns</p>\n",
       "</div>"
      ],
      "text/plain": [
       "         status_group  longitude  latitude  population  construction_year  \\\n",
       "id                                                                          \n",
       "69572      functional   0.496455  0.168353    0.003541           0.735849   \n",
       "8776       functional   0.474167  0.892122    0.009148           0.943396   \n",
       "34310      functional   0.731374  0.734967    0.008164           0.924528   \n",
       "67743  non functional   0.826875  0.046394    0.001869           0.490566   \n",
       "19728      functional   0.141899  0.922364    0.013692           0.852830   \n",
       "...               ...        ...       ...         ...                ...   \n",
       "60739      functional   0.704287  0.788246    0.004066           0.735849   \n",
       "27263      functional   0.525501  0.242120    0.001803           0.679245   \n",
       "37057      functional   0.410685  0.272182    0.003836           0.924528   \n",
       "31282      functional   0.582432  0.494872    0.009148           0.841509   \n",
       "26348      functional   0.791290  0.460237    0.004885           0.792453   \n",
       "\n",
       "       funder_communal standpipe  funder_communal standpipe multiple  \\\n",
       "id                                                                     \n",
       "69572                        1.0                                 0.0   \n",
       "8776                         1.0                                 0.0   \n",
       "34310                        0.0                                 1.0   \n",
       "67743                        0.0                                 1.0   \n",
       "19728                        1.0                                 0.0   \n",
       "...                          ...                                 ...   \n",
       "60739                        1.0                                 0.0   \n",
       "27263                        1.0                                 0.0   \n",
       "37057                        0.0                                 0.0   \n",
       "31282                        0.0                                 0.0   \n",
       "26348                        0.0                                 0.0   \n",
       "\n",
       "       funder_hand pump  funder_improved spring  funder_other  ...  \\\n",
       "id                                                             ...   \n",
       "69572               0.0                     0.0           0.0  ...   \n",
       "8776                0.0                     0.0           0.0  ...   \n",
       "34310               0.0                     0.0           0.0  ...   \n",
       "67743               0.0                     0.0           0.0  ...   \n",
       "19728               0.0                     0.0           0.0  ...   \n",
       "...                 ...                     ...           ...  ...   \n",
       "60739               0.0                     0.0           0.0  ...   \n",
       "27263               0.0                     0.0           0.0  ...   \n",
       "37057               1.0                     0.0           0.0  ...   \n",
       "31282               1.0                     0.0           0.0  ...   \n",
       "26348               1.0                     0.0           0.0  ...   \n",
       "\n",
       "       source_other  source_rainwater harvesting  source_river  \\\n",
       "id                                                               \n",
       "69572           0.0                          0.0           0.0   \n",
       "8776            0.0                          1.0           0.0   \n",
       "34310           0.0                          0.0           0.0   \n",
       "67743           0.0                          0.0           0.0   \n",
       "19728           0.0                          1.0           0.0   \n",
       "...             ...                          ...           ...   \n",
       "60739           0.0                          0.0           0.0   \n",
       "27263           0.0                          0.0           1.0   \n",
       "37057           0.0                          0.0           0.0   \n",
       "31282           0.0                          0.0           0.0   \n",
       "26348           0.0                          0.0           0.0   \n",
       "\n",
       "       source_shallow well  source_spring  waterpoint_type_communal standpipe  \\\n",
       "id                                                                              \n",
       "69572                  0.0            1.0                                 1.0   \n",
       "8776                   0.0            0.0                                 1.0   \n",
       "34310                  0.0            0.0                                 0.0   \n",
       "67743                  0.0            0.0                                 0.0   \n",
       "19728                  0.0            0.0                                 1.0   \n",
       "...                    ...            ...                                 ...   \n",
       "60739                  0.0            1.0                                 1.0   \n",
       "27263                  0.0            0.0                                 1.0   \n",
       "37057                  0.0            0.0                                 0.0   \n",
       "31282                  1.0            0.0                                 0.0   \n",
       "26348                  1.0            0.0                                 0.0   \n",
       "\n",
       "       waterpoint_type_communal standpipe multiple  waterpoint_type_hand pump  \\\n",
       "id                                                                              \n",
       "69572                                          0.0                        0.0   \n",
       "8776                                           0.0                        0.0   \n",
       "34310                                          1.0                        0.0   \n",
       "67743                                          1.0                        0.0   \n",
       "19728                                          0.0                        0.0   \n",
       "...                                            ...                        ...   \n",
       "60739                                          0.0                        0.0   \n",
       "27263                                          0.0                        0.0   \n",
       "37057                                          0.0                        1.0   \n",
       "31282                                          0.0                        1.0   \n",
       "26348                                          0.0                        1.0   \n",
       "\n",
       "       waterpoint_type_improved spring  waterpoint_type_other  \n",
       "id                                                             \n",
       "69572                              0.0                    0.0  \n",
       "8776                               0.0                    0.0  \n",
       "34310                              0.0                    0.0  \n",
       "67743                              0.0                    0.0  \n",
       "19728                              0.0                    0.0  \n",
       "...                                ...                    ...  \n",
       "60739                              0.0                    0.0  \n",
       "27263                              0.0                    0.0  \n",
       "37057                              0.0                    0.0  \n",
       "31282                              0.0                    0.0  \n",
       "26348                              0.0                    0.0  \n",
       "\n",
       "[59400 rows x 101 columns]"
      ]
     },
     "execution_count": 2,
     "metadata": {},
     "output_type": "execute_result"
    }
   ],
   "source": [
    "df = pd.read_csv('../data/cleaned_data.csv', index_col='id')\n",
    "df"
   ]
  },
  {
   "cell_type": "code",
   "execution_count": 3,
   "metadata": {},
   "outputs": [],
   "source": [
    "y = df['status_group']\n",
    "X = df.drop(['status_group'], axis=1)\n",
    "X_train, X_test, y_train, y_test = train_test_split(X, y, random_state=212)"
   ]
  },
  {
   "cell_type": "markdown",
   "metadata": {},
   "source": [
    "## Baseline Model"
   ]
  },
  {
   "cell_type": "code",
   "execution_count": 4,
   "metadata": {},
   "outputs": [
    {
     "data": {
      "text/plain": [
       "{'accuracy': 0.7703703703703704,\n",
       " 'f1': 0.7490681311609566,\n",
       " 'precision': 0.7658791378307882,\n",
       " 'recall': 0.7703703703703704}"
      ]
     },
     "execution_count": 4,
     "metadata": {},
     "output_type": "execute_result"
    }
   ],
   "source": [
    "baseline = SVC()\n",
    "baseline.fit(X_train, y_train)\n",
    "get_metrics(y_test, X_test, baseline)"
   ]
  },
  {
   "cell_type": "markdown",
   "metadata": {},
   "source": [
    "## GridSearch CV"
   ]
  },
  {
   "cell_type": "markdown",
   "metadata": {},
   "source": [
    "Which parameters are tunable depend on the kernel chosen. rbf seems to be better for not-easily-seperable data, so I chose it. I believe the balanced value for class_weight would be better for most models, but I am using solely accuracy as my scoring metric, and so it is less useful in this case."
   ]
  },
  {
   "cell_type": "code",
   "execution_count": 4,
   "metadata": {},
   "outputs": [],
   "source": [
    "from sklearn.model_selection import GridSearchCV"
   ]
  },
  {
   "cell_type": "code",
   "execution_count": null,
   "metadata": {},
   "outputs": [],
   "source": [
    "param_grid = {\n",
    "    'C': [0.1, 1, 10, 100], # default 1.0\n",
    "    'kernel': ['rbf'], # default 'rbf'\n",
    "    'gamma': [0.001, 0.01, 0.1, 1], # default 'scale'\n",
    "    'class_weight': [None, 'balanced'], # default None\n",
    "}\n",
    "svc = SVC()\n",
    "grid_search = GridSearchCV(svc, param_grid, cv=3, scoring='accuracy')\n",
    "grid_search.fit(X_train, y_train)"
   ]
  },
  {
   "cell_type": "code",
   "execution_count": 7,
   "metadata": {},
   "outputs": [
    {
     "data": {
      "text/plain": [
       "{'C': 10, 'class_weight': None, 'gamma': 0.1, 'kernel': 'rbf'}"
      ]
     },
     "execution_count": 7,
     "metadata": {},
     "output_type": "execute_result"
    }
   ],
   "source": [
    "grid_search.best_params_"
   ]
  },
  {
   "cell_type": "code",
   "execution_count": 8,
   "metadata": {},
   "outputs": [
    {
     "data": {
      "text/plain": [
       "{'accuracy': 0.775084175084175,\n",
       " 'f1': 0.7610356464920425,\n",
       " 'precision': 0.7664295252943402,\n",
       " 'recall': 0.775084175084175}"
      ]
     },
     "execution_count": 8,
     "metadata": {},
     "output_type": "execute_result"
    }
   ],
   "source": [
    "svc_tuned = SVC(C=10, kernel='rbf', gamma=0.1, class_weight=None)\n",
    "svc_tuned.fit(X_train, y_train)\n",
    "get_metrics(y_test, X_test, svc_tuned)"
   ]
  },
  {
   "cell_type": "code",
   "execution_count": 5,
   "metadata": {},
   "outputs": [
    {
     "data": {
      "text/plain": [
       "GridSearchCV(cv=3, estimator=SVC(),\n",
       "             param_grid={'C': [5, 10, 50], 'class_weight': [None],\n",
       "                         'gamma': [0.05, 0.1, 0.5], 'kernel': ['rbf']},\n",
       "             scoring='accuracy')"
      ]
     },
     "execution_count": 5,
     "metadata": {},
     "output_type": "execute_result"
    }
   ],
   "source": [
    "param_grid = {\n",
    "    'C': [5, 10, 50], # default 1.0\n",
    "    'kernel': ['rbf'], # default 'rbf'\n",
    "    'gamma': [0.05, 0.1, 0.5], # default 'scale'\n",
    "    'class_weight': [None], # default None\n",
    "}\n",
    "svc = SVC()\n",
    "grid_search = GridSearchCV(svc, param_grid, cv=3, scoring='accuracy')\n",
    "grid_search.fit(X_train, y_train)"
   ]
  },
  {
   "cell_type": "code",
   "execution_count": 6,
   "metadata": {},
   "outputs": [
    {
     "data": {
      "text/plain": [
       "{'C': 5, 'class_weight': None, 'gamma': 0.1, 'kernel': 'rbf'}"
      ]
     },
     "execution_count": 6,
     "metadata": {},
     "output_type": "execute_result"
    }
   ],
   "source": [
    "grid_search.best_params_"
   ]
  },
  {
   "cell_type": "code",
   "execution_count": 7,
   "metadata": {},
   "outputs": [
    {
     "data": {
      "text/plain": [
       "{'accuracy': 0.7757575757575758,\n",
       " 'f1': 0.7599310142186181,\n",
       " 'precision': 0.7680019416187246,\n",
       " 'recall': 0.7757575757575758}"
      ]
     },
     "execution_count": 7,
     "metadata": {},
     "output_type": "execute_result"
    }
   ],
   "source": [
    "svc_tuned = SVC(C=5, kernel='rbf', gamma=0.1, class_weight=None)\n",
    "svc_tuned.fit(X_train, y_train)\n",
    "get_metrics(y_test, X_test, svc_tuned)"
   ]
  },
  {
   "cell_type": "markdown",
   "metadata": {},
   "source": [
    "## Bagging"
   ]
  },
  {
   "cell_type": "markdown",
   "metadata": {},
   "source": [
    "Bagging seems to have some small improvement for SVM, so I will use it in the final model."
   ]
  },
  {
   "cell_type": "code",
   "execution_count": 4,
   "metadata": {},
   "outputs": [],
   "source": [
    "from sklearn.ensemble import BaggingClassifier"
   ]
  },
  {
   "cell_type": "code",
   "execution_count": 5,
   "metadata": {},
   "outputs": [
    {
     "data": {
      "text/plain": [
       "{'accuracy': 0.775959595959596,\n",
       " 'f1': 0.7601798972167861,\n",
       " 'precision': 0.7683720458118004,\n",
       " 'recall': 0.775959595959596}"
      ]
     },
     "execution_count": 5,
     "metadata": {},
     "output_type": "execute_result"
    }
   ],
   "source": [
    "svc_bagged = BaggingClassifier(SVC(C=5, kernel='rbf', gamma=0.1, class_weight=None))  \n",
    "svc_bagged.fit(X_train, y_train)\n",
    "get_metrics(y_test, X_test, svc_bagged)"
   ]
  },
  {
   "cell_type": "markdown",
   "metadata": {},
   "source": [
    "## Confusion Matrix"
   ]
  },
  {
   "cell_type": "code",
   "execution_count": 6,
   "metadata": {},
   "outputs": [],
   "source": [
    "import matplotlib.pyplot as plt\n",
    "from sklearn.metrics import plot_confusion_matrix"
   ]
  },
  {
   "cell_type": "code",
   "execution_count": 7,
   "metadata": {},
   "outputs": [
    {
     "data": {
      "image/png": "[encoded data removed]",
      "text/plain": [
       "<Figure size 432x288 with 2 Axes>"
      ]
     },
     "metadata": {
      "needs_background": "light"
     },
     "output_type": "display_data"
    }
   ],
   "source": [
    "plot_confusion_matrix(svc_bagged, X_test, y_test, display_labels=['functional', 'needs repair', 'nonfunctional'], cmap=plt.cm.Blues)\n",
    "plt.title('Support Vector Machines')\n",
    "plt.tight_layout()\n",
    "plt.savefig('../visualizations/svc-confusion-matrix.png')\n",
    "plt.show()"
   ]
  },
  {
   "cell_type": "markdown",
   "metadata": {},
   "source": [
    "## Conclusions"
   ]
  },
  {
   "cell_type": "markdown",
   "metadata": {},
   "source": [
    "SVM performs worse than any of my other tuned models. This is likely because it performs best on more easily seperable data. I don't expect it to have good performance as the final model."
   ]
  }
 ],
 "metadata": {
  "kernelspec": {
   "display_name": "learn-env",
   "language": "python",
   "name": "learn-env"
  },
  "language_info": {
   "codemirror_mode": {
    "name": "ipython",
    "version": 3
   },
   "file_extension": ".py",
   "mimetype": "text/x-python",
   "name": "python",
   "nbconvert_exporter": "python",
   "pygments_lexer": "ipython3",
   "version": "3.6.9"
  }
 },
 "nbformat": 4,
 "nbformat_minor": 4
}
