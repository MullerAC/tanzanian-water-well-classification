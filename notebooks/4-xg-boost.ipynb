{
 "cells": [
  {
   "cell_type": "markdown",
   "metadata": {},
   "source": [
    "# XG Boost"
   ]
  },
  {
   "cell_type": "markdown",
   "metadata": {},
   "source": [
    "Despite not performing well in the baselines, I know XGBoost has a large amount of hyperparameters that can be tuned, so I am hopeful that its performance will improve significantly."
   ]
  },
  {
   "cell_type": "code",
   "execution_count": 1,
   "metadata": {},
   "outputs": [],
   "source": [
    "import pandas as pd\n",
    "from scripts import get_metrics\n",
    "from sklearn.model_selection import train_test_split\n",
    "from xgboost import XGBClassifier"
   ]
  },
  {
   "cell_type": "code",
   "execution_count": 2,
   "metadata": {},
   "outputs": [
    {
     "data": {
      "text/html": [
       "<div>\n",
       "<style scoped>\n",
       "    .dataframe tbody tr th:only-of-type {\n",
       "        vertical-align: middle;\n",
       "    }\n",
       "\n",
       "    .dataframe tbody tr th {\n",
       "        vertical-align: top;\n",
       "    }\n",
       "\n",
       "    .dataframe thead th {\n",
       "        text-align: right;\n",
       "    }\n",
       "</style>\n",
       "<table border=\"1\" class=\"dataframe\">\n",
       "  <thead>\n",
       "    <tr style=\"text-align: right;\">\n",
       "      <th></th>\n",
       "      <th>status_group</th>\n",
       "      <th>longitude</th>\n",
       "      <th>latitude</th>\n",
       "      <th>population</th>\n",
       "      <th>construction_year</th>\n",
       "      <th>funder_communal standpipe</th>\n",
       "      <th>funder_communal standpipe multiple</th>\n",
       "      <th>funder_hand pump</th>\n",
       "      <th>funder_improved spring</th>\n",
       "      <th>funder_other</th>\n",
       "      <th>...</th>\n",
       "      <th>source_other</th>\n",
       "      <th>source_rainwater harvesting</th>\n",
       "      <th>source_river</th>\n",
       "      <th>source_shallow well</th>\n",
       "      <th>source_spring</th>\n",
       "      <th>waterpoint_type_communal standpipe</th>\n",
       "      <th>waterpoint_type_communal standpipe multiple</th>\n",
       "      <th>waterpoint_type_hand pump</th>\n",
       "      <th>waterpoint_type_improved spring</th>\n",
       "      <th>waterpoint_type_other</th>\n",
       "    </tr>\n",
       "    <tr>\n",
       "      <th>id</th>\n",
       "      <th></th>\n",
       "      <th></th>\n",
       "      <th></th>\n",
       "      <th></th>\n",
       "      <th></th>\n",
       "      <th></th>\n",
       "      <th></th>\n",
       "      <th></th>\n",
       "      <th></th>\n",
       "      <th></th>\n",
       "      <th></th>\n",
       "      <th></th>\n",
       "      <th></th>\n",
       "      <th></th>\n",
       "      <th></th>\n",
       "      <th></th>\n",
       "      <th></th>\n",
       "      <th></th>\n",
       "      <th></th>\n",
       "      <th></th>\n",
       "      <th></th>\n",
       "    </tr>\n",
       "  </thead>\n",
       "  <tbody>\n",
       "    <tr>\n",
       "      <th>69572</th>\n",
       "      <td>functional</td>\n",
       "      <td>0.496455</td>\n",
       "      <td>0.168353</td>\n",
       "      <td>0.003541</td>\n",
       "      <td>0.735849</td>\n",
       "      <td>1.0</td>\n",
       "      <td>0.0</td>\n",
       "      <td>0.0</td>\n",
       "      <td>0.0</td>\n",
       "      <td>0.0</td>\n",
       "      <td>...</td>\n",
       "      <td>0.0</td>\n",
       "      <td>0.0</td>\n",
       "      <td>0.0</td>\n",
       "      <td>0.0</td>\n",
       "      <td>1.0</td>\n",
       "      <td>1.0</td>\n",
       "      <td>0.0</td>\n",
       "      <td>0.0</td>\n",
       "      <td>0.0</td>\n",
       "      <td>0.0</td>\n",
       "    </tr>\n",
       "    <tr>\n",
       "      <th>8776</th>\n",
       "      <td>functional</td>\n",
       "      <td>0.474167</td>\n",
       "      <td>0.892122</td>\n",
       "      <td>0.009148</td>\n",
       "      <td>0.943396</td>\n",
       "      <td>1.0</td>\n",
       "      <td>0.0</td>\n",
       "      <td>0.0</td>\n",
       "      <td>0.0</td>\n",
       "      <td>0.0</td>\n",
       "      <td>...</td>\n",
       "      <td>0.0</td>\n",
       "      <td>1.0</td>\n",
       "      <td>0.0</td>\n",
       "      <td>0.0</td>\n",
       "      <td>0.0</td>\n",
       "      <td>1.0</td>\n",
       "      <td>0.0</td>\n",
       "      <td>0.0</td>\n",
       "      <td>0.0</td>\n",
       "      <td>0.0</td>\n",
       "    </tr>\n",
       "    <tr>\n",
       "      <th>34310</th>\n",
       "      <td>functional</td>\n",
       "      <td>0.731374</td>\n",
       "      <td>0.734967</td>\n",
       "      <td>0.008164</td>\n",
       "      <td>0.924528</td>\n",
       "      <td>0.0</td>\n",
       "      <td>1.0</td>\n",
       "      <td>0.0</td>\n",
       "      <td>0.0</td>\n",
       "      <td>0.0</td>\n",
       "      <td>...</td>\n",
       "      <td>0.0</td>\n",
       "      <td>0.0</td>\n",
       "      <td>0.0</td>\n",
       "      <td>0.0</td>\n",
       "      <td>0.0</td>\n",
       "      <td>0.0</td>\n",
       "      <td>1.0</td>\n",
       "      <td>0.0</td>\n",
       "      <td>0.0</td>\n",
       "      <td>0.0</td>\n",
       "    </tr>\n",
       "    <tr>\n",
       "      <th>67743</th>\n",
       "      <td>non functional</td>\n",
       "      <td>0.826875</td>\n",
       "      <td>0.046394</td>\n",
       "      <td>0.001869</td>\n",
       "      <td>0.490566</td>\n",
       "      <td>0.0</td>\n",
       "      <td>1.0</td>\n",
       "      <td>0.0</td>\n",
       "      <td>0.0</td>\n",
       "      <td>0.0</td>\n",
       "      <td>...</td>\n",
       "      <td>0.0</td>\n",
       "      <td>0.0</td>\n",
       "      <td>0.0</td>\n",
       "      <td>0.0</td>\n",
       "      <td>0.0</td>\n",
       "      <td>0.0</td>\n",
       "      <td>1.0</td>\n",
       "      <td>0.0</td>\n",
       "      <td>0.0</td>\n",
       "      <td>0.0</td>\n",
       "    </tr>\n",
       "    <tr>\n",
       "      <th>19728</th>\n",
       "      <td>functional</td>\n",
       "      <td>0.141899</td>\n",
       "      <td>0.922364</td>\n",
       "      <td>0.013692</td>\n",
       "      <td>0.852830</td>\n",
       "      <td>1.0</td>\n",
       "      <td>0.0</td>\n",
       "      <td>0.0</td>\n",
       "      <td>0.0</td>\n",
       "      <td>0.0</td>\n",
       "      <td>...</td>\n",
       "      <td>0.0</td>\n",
       "      <td>1.0</td>\n",
       "      <td>0.0</td>\n",
       "      <td>0.0</td>\n",
       "      <td>0.0</td>\n",
       "      <td>1.0</td>\n",
       "      <td>0.0</td>\n",
       "      <td>0.0</td>\n",
       "      <td>0.0</td>\n",
       "      <td>0.0</td>\n",
       "    </tr>\n",
       "    <tr>\n",
       "      <th>...</th>\n",
       "      <td>...</td>\n",
       "      <td>...</td>\n",
       "      <td>...</td>\n",
       "      <td>...</td>\n",
       "      <td>...</td>\n",
       "      <td>...</td>\n",
       "      <td>...</td>\n",
       "      <td>...</td>\n",
       "      <td>...</td>\n",
       "      <td>...</td>\n",
       "      <td>...</td>\n",
       "      <td>...</td>\n",
       "      <td>...</td>\n",
       "      <td>...</td>\n",
       "      <td>...</td>\n",
       "      <td>...</td>\n",
       "      <td>...</td>\n",
       "      <td>...</td>\n",
       "      <td>...</td>\n",
       "      <td>...</td>\n",
       "      <td>...</td>\n",
       "    </tr>\n",
       "    <tr>\n",
       "      <th>60739</th>\n",
       "      <td>functional</td>\n",
       "      <td>0.704287</td>\n",
       "      <td>0.788246</td>\n",
       "      <td>0.004066</td>\n",
       "      <td>0.735849</td>\n",
       "      <td>1.0</td>\n",
       "      <td>0.0</td>\n",
       "      <td>0.0</td>\n",
       "      <td>0.0</td>\n",
       "      <td>0.0</td>\n",
       "      <td>...</td>\n",
       "      <td>0.0</td>\n",
       "      <td>0.0</td>\n",
       "      <td>0.0</td>\n",
       "      <td>0.0</td>\n",
       "      <td>1.0</td>\n",
       "      <td>1.0</td>\n",
       "      <td>0.0</td>\n",
       "      <td>0.0</td>\n",
       "      <td>0.0</td>\n",
       "      <td>0.0</td>\n",
       "    </tr>\n",
       "    <tr>\n",
       "      <th>27263</th>\n",
       "      <td>functional</td>\n",
       "      <td>0.525501</td>\n",
       "      <td>0.242120</td>\n",
       "      <td>0.001803</td>\n",
       "      <td>0.679245</td>\n",
       "      <td>1.0</td>\n",
       "      <td>0.0</td>\n",
       "      <td>0.0</td>\n",
       "      <td>0.0</td>\n",
       "      <td>0.0</td>\n",
       "      <td>...</td>\n",
       "      <td>0.0</td>\n",
       "      <td>0.0</td>\n",
       "      <td>1.0</td>\n",
       "      <td>0.0</td>\n",
       "      <td>0.0</td>\n",
       "      <td>1.0</td>\n",
       "      <td>0.0</td>\n",
       "      <td>0.0</td>\n",
       "      <td>0.0</td>\n",
       "      <td>0.0</td>\n",
       "    </tr>\n",
       "    <tr>\n",
       "      <th>37057</th>\n",
       "      <td>functional</td>\n",
       "      <td>0.410685</td>\n",
       "      <td>0.272182</td>\n",
       "      <td>0.003836</td>\n",
       "      <td>0.924528</td>\n",
       "      <td>0.0</td>\n",
       "      <td>0.0</td>\n",
       "      <td>1.0</td>\n",
       "      <td>0.0</td>\n",
       "      <td>0.0</td>\n",
       "      <td>...</td>\n",
       "      <td>0.0</td>\n",
       "      <td>0.0</td>\n",
       "      <td>0.0</td>\n",
       "      <td>0.0</td>\n",
       "      <td>0.0</td>\n",
       "      <td>0.0</td>\n",
       "      <td>0.0</td>\n",
       "      <td>1.0</td>\n",
       "      <td>0.0</td>\n",
       "      <td>0.0</td>\n",
       "    </tr>\n",
       "    <tr>\n",
       "      <th>31282</th>\n",
       "      <td>functional</td>\n",
       "      <td>0.582432</td>\n",
       "      <td>0.494872</td>\n",
       "      <td>0.009148</td>\n",
       "      <td>0.841509</td>\n",
       "      <td>0.0</td>\n",
       "      <td>0.0</td>\n",
       "      <td>1.0</td>\n",
       "      <td>0.0</td>\n",
       "      <td>0.0</td>\n",
       "      <td>...</td>\n",
       "      <td>0.0</td>\n",
       "      <td>0.0</td>\n",
       "      <td>0.0</td>\n",
       "      <td>1.0</td>\n",
       "      <td>0.0</td>\n",
       "      <td>0.0</td>\n",
       "      <td>0.0</td>\n",
       "      <td>1.0</td>\n",
       "      <td>0.0</td>\n",
       "      <td>0.0</td>\n",
       "    </tr>\n",
       "    <tr>\n",
       "      <th>26348</th>\n",
       "      <td>functional</td>\n",
       "      <td>0.791290</td>\n",
       "      <td>0.460237</td>\n",
       "      <td>0.004885</td>\n",
       "      <td>0.792453</td>\n",
       "      <td>0.0</td>\n",
       "      <td>0.0</td>\n",
       "      <td>1.0</td>\n",
       "      <td>0.0</td>\n",
       "      <td>0.0</td>\n",
       "      <td>...</td>\n",
       "      <td>0.0</td>\n",
       "      <td>0.0</td>\n",
       "      <td>0.0</td>\n",
       "      <td>1.0</td>\n",
       "      <td>0.0</td>\n",
       "      <td>0.0</td>\n",
       "      <td>0.0</td>\n",
       "      <td>1.0</td>\n",
       "      <td>0.0</td>\n",
       "      <td>0.0</td>\n",
       "    </tr>\n",
       "  </tbody>\n",
       "</table>\n",
       "<p>59400 rows × 101 columns</p>\n",
       "</div>"
      ],
      "text/plain": [
       "         status_group  longitude  latitude  population  construction_year  \\\n",
       "id                                                                          \n",
       "69572      functional   0.496455  0.168353    0.003541           0.735849   \n",
       "8776       functional   0.474167  0.892122    0.009148           0.943396   \n",
       "34310      functional   0.731374  0.734967    0.008164           0.924528   \n",
       "67743  non functional   0.826875  0.046394    0.001869           0.490566   \n",
       "19728      functional   0.141899  0.922364    0.013692           0.852830   \n",
       "...               ...        ...       ...         ...                ...   \n",
       "60739      functional   0.704287  0.788246    0.004066           0.735849   \n",
       "27263      functional   0.525501  0.242120    0.001803           0.679245   \n",
       "37057      functional   0.410685  0.272182    0.003836           0.924528   \n",
       "31282      functional   0.582432  0.494872    0.009148           0.841509   \n",
       "26348      functional   0.791290  0.460237    0.004885           0.792453   \n",
       "\n",
       "       funder_communal standpipe  funder_communal standpipe multiple  \\\n",
       "id                                                                     \n",
       "69572                        1.0                                 0.0   \n",
       "8776                         1.0                                 0.0   \n",
       "34310                        0.0                                 1.0   \n",
       "67743                        0.0                                 1.0   \n",
       "19728                        1.0                                 0.0   \n",
       "...                          ...                                 ...   \n",
       "60739                        1.0                                 0.0   \n",
       "27263                        1.0                                 0.0   \n",
       "37057                        0.0                                 0.0   \n",
       "31282                        0.0                                 0.0   \n",
       "26348                        0.0                                 0.0   \n",
       "\n",
       "       funder_hand pump  funder_improved spring  funder_other  ...  \\\n",
       "id                                                             ...   \n",
       "69572               0.0                     0.0           0.0  ...   \n",
       "8776                0.0                     0.0           0.0  ...   \n",
       "34310               0.0                     0.0           0.0  ...   \n",
       "67743               0.0                     0.0           0.0  ...   \n",
       "19728               0.0                     0.0           0.0  ...   \n",
       "...                 ...                     ...           ...  ...   \n",
       "60739               0.0                     0.0           0.0  ...   \n",
       "27263               0.0                     0.0           0.0  ...   \n",
       "37057               1.0                     0.0           0.0  ...   \n",
       "31282               1.0                     0.0           0.0  ...   \n",
       "26348               1.0                     0.0           0.0  ...   \n",
       "\n",
       "       source_other  source_rainwater harvesting  source_river  \\\n",
       "id                                                               \n",
       "69572           0.0                          0.0           0.0   \n",
       "8776            0.0                          1.0           0.0   \n",
       "34310           0.0                          0.0           0.0   \n",
       "67743           0.0                          0.0           0.0   \n",
       "19728           0.0                          1.0           0.0   \n",
       "...             ...                          ...           ...   \n",
       "60739           0.0                          0.0           0.0   \n",
       "27263           0.0                          0.0           1.0   \n",
       "37057           0.0                          0.0           0.0   \n",
       "31282           0.0                          0.0           0.0   \n",
       "26348           0.0                          0.0           0.0   \n",
       "\n",
       "       source_shallow well  source_spring  waterpoint_type_communal standpipe  \\\n",
       "id                                                                              \n",
       "69572                  0.0            1.0                                 1.0   \n",
       "8776                   0.0            0.0                                 1.0   \n",
       "34310                  0.0            0.0                                 0.0   \n",
       "67743                  0.0            0.0                                 0.0   \n",
       "19728                  0.0            0.0                                 1.0   \n",
       "...                    ...            ...                                 ...   \n",
       "60739                  0.0            1.0                                 1.0   \n",
       "27263                  0.0            0.0                                 1.0   \n",
       "37057                  0.0            0.0                                 0.0   \n",
       "31282                  1.0            0.0                                 0.0   \n",
       "26348                  1.0            0.0                                 0.0   \n",
       "\n",
       "       waterpoint_type_communal standpipe multiple  waterpoint_type_hand pump  \\\n",
       "id                                                                              \n",
       "69572                                          0.0                        0.0   \n",
       "8776                                           0.0                        0.0   \n",
       "34310                                          1.0                        0.0   \n",
       "67743                                          1.0                        0.0   \n",
       "19728                                          0.0                        0.0   \n",
       "...                                            ...                        ...   \n",
       "60739                                          0.0                        0.0   \n",
       "27263                                          0.0                        0.0   \n",
       "37057                                          0.0                        1.0   \n",
       "31282                                          0.0                        1.0   \n",
       "26348                                          0.0                        1.0   \n",
       "\n",
       "       waterpoint_type_improved spring  waterpoint_type_other  \n",
       "id                                                             \n",
       "69572                              0.0                    0.0  \n",
       "8776                               0.0                    0.0  \n",
       "34310                              0.0                    0.0  \n",
       "67743                              0.0                    0.0  \n",
       "19728                              0.0                    0.0  \n",
       "...                                ...                    ...  \n",
       "60739                              0.0                    0.0  \n",
       "27263                              0.0                    0.0  \n",
       "37057                              0.0                    0.0  \n",
       "31282                              0.0                    0.0  \n",
       "26348                              0.0                    0.0  \n",
       "\n",
       "[59400 rows x 101 columns]"
      ]
     },
     "execution_count": 2,
     "metadata": {},
     "output_type": "execute_result"
    }
   ],
   "source": [
    "df = pd.read_csv('../data/cleaned_data.csv', index_col='id')\n",
    "df"
   ]
  },
  {
   "cell_type": "code",
   "execution_count": 3,
   "metadata": {},
   "outputs": [],
   "source": [
    "y = df['status_group']\n",
    "X = df.drop(['status_group'], axis=1)\n",
    "X_train, X_test, y_train, y_test = train_test_split(X, y, random_state=212)"
   ]
  },
  {
   "cell_type": "markdown",
   "metadata": {},
   "source": [
    "## Baseline Model"
   ]
  },
  {
   "cell_type": "code",
   "execution_count": 4,
   "metadata": {},
   "outputs": [
    {
     "data": {
      "text/plain": [
       "{'accuracy': 0.7441750841750842,\n",
       " 'f1': 0.7161396155265648,\n",
       " 'precision': 0.7469413237149911,\n",
       " 'recall': 0.7441750841750842}"
      ]
     },
     "execution_count": 4,
     "metadata": {},
     "output_type": "execute_result"
    }
   ],
   "source": [
    "baseline = XGBClassifier()\n",
    "baseline.fit(X_train, y_train)\n",
    "get_metrics(y_test, X_test, baseline)"
   ]
  },
  {
   "cell_type": "markdown",
   "metadata": {},
   "source": [
    "## GridSearch CV"
   ]
  },
  {
   "cell_type": "markdown",
   "metadata": {},
   "source": [
    "Time and RAM constraints leave me unable to test every tunable hyperparameter this model offers, so I narrowed it down to a few that seemed the most important."
   ]
  },
  {
   "cell_type": "code",
   "execution_count": 5,
   "metadata": {},
   "outputs": [],
   "source": [
    "from sklearn.model_selection import GridSearchCV"
   ]
  },
  {
   "cell_type": "code",
   "execution_count": 6,
   "metadata": {},
   "outputs": [
    {
     "data": {
      "text/plain": [
       "GridSearchCV(cv=3, estimator=XGBClassifier(),\n",
       "             param_grid={'eta': [0.1, 0.3], 'gamma': [0, 3],\n",
       "                         'max_depth': [6, 8, 10], 'min_child_weight': [0.5, 1],\n",
       "                         'subsample': [0.5, 1]},\n",
       "             scoring='accuracy')"
      ]
     },
     "execution_count": 6,
     "metadata": {},
     "output_type": "execute_result"
    }
   ],
   "source": [
    "param_grid = {\n",
    "    'eta': [0.1, 0.3], # default 0.3, aka learning_rate\n",
    "    'gamma': [0, 3], # default 0, aka min_loss_split\n",
    "    'max_depth': [6, 8, 10], # default 6\n",
    "    'min_child_weight': [0.5, 1], # default 1\n",
    "    'subsample': [0.5, 1], # default 1\n",
    "}\n",
    "xgb = XGBClassifier()\n",
    "grid_search = GridSearchCV(xgb, param_grid, cv=3, scoring='accuracy')\n",
    "grid_search.fit(X_train, y_train)"
   ]
  },
  {
   "cell_type": "code",
   "execution_count": 7,
   "metadata": {},
   "outputs": [
    {
     "data": {
      "text/plain": [
       "{'eta': 0.1,\n",
       " 'gamma': 0,\n",
       " 'max_depth': 10,\n",
       " 'min_child_weight': 0.5,\n",
       " 'subsample': 0.5}"
      ]
     },
     "execution_count": 7,
     "metadata": {},
     "output_type": "execute_result"
    }
   ],
   "source": [
    "grid_search.best_params_"
   ]
  },
  {
   "cell_type": "code",
   "execution_count": 8,
   "metadata": {},
   "outputs": [
    {
     "data": {
      "text/plain": [
       "{'accuracy': 0.7997979797979798,\n",
       " 'f1': 0.7865408402000733,\n",
       " 'precision': 0.7941122092215788,\n",
       " 'recall': 0.7997979797979798}"
      ]
     },
     "execution_count": 8,
     "metadata": {},
     "output_type": "execute_result"
    }
   ],
   "source": [
    "xgb_tuned = XGBClassifier(eta=0.1, gamma=0, max_depth=10, min_child_weight=0.5, subsample=0.5)\n",
    "xgb_tuned.fit(X_train, y_train)\n",
    "get_metrics(y_test, X_test, xgb_tuned)"
   ]
  },
  {
   "cell_type": "code",
   "execution_count": 6,
   "metadata": {},
   "outputs": [
    {
     "data": {
      "text/plain": [
       "GridSearchCV(cv=3, estimator=XGBClassifier(),\n",
       "             param_grid={'eta': [0.05, 0.1], 'gamma': [0],\n",
       "                         'max_depth': [10, 12],\n",
       "                         'min_child_weight': [0.25, 0.5, 0.75],\n",
       "                         'subsample': [0.25, 0.5, 0.75]},\n",
       "             scoring='accuracy')"
      ]
     },
     "execution_count": 6,
     "metadata": {},
     "output_type": "execute_result"
    }
   ],
   "source": [
    "param_grid = {\n",
    "    'eta': [0.05, 0.1], # default 0.3, aka learning_rate\n",
    "    'gamma': [0], # default 0, aka min_loss_split\n",
    "    'max_depth': [10, 12], # default 6\n",
    "    'min_child_weight': [0.25, 0.5, 0.75], # default 1\n",
    "    'subsample': [0.25, 0.5, 0.75], # default 1\n",
    "}\n",
    "xgb = XGBClassifier()\n",
    "grid_search = GridSearchCV(xgb, param_grid, cv=3, scoring='accuracy')\n",
    "grid_search.fit(X_train, y_train)"
   ]
  },
  {
   "cell_type": "code",
   "execution_count": 7,
   "metadata": {},
   "outputs": [
    {
     "data": {
      "text/plain": [
       "{'eta': 0.05,\n",
       " 'gamma': 0,\n",
       " 'max_depth': 12,\n",
       " 'min_child_weight': 0.75,\n",
       " 'subsample': 0.75}"
      ]
     },
     "execution_count": 7,
     "metadata": {},
     "output_type": "execute_result"
    }
   ],
   "source": [
    "grid_search.best_params_"
   ]
  },
  {
   "cell_type": "code",
   "execution_count": 4,
   "metadata": {},
   "outputs": [
    {
     "data": {
      "text/plain": [
       "{'accuracy': 0.8024915824915825,\n",
       " 'f1': 0.7911600451773849,\n",
       " 'precision': 0.795282901250696,\n",
       " 'recall': 0.8024915824915825}"
      ]
     },
     "execution_count": 4,
     "metadata": {},
     "output_type": "execute_result"
    }
   ],
   "source": [
    "xgb_tuned = XGBClassifier(eta=0.05, gamma=0, max_depth=12, min_child_weight=0.75, subsample=0.75)\n",
    "xgb_tuned.fit(X_train, y_train)\n",
    "get_metrics(y_test, X_test, xgb_tuned)"
   ]
  },
  {
   "cell_type": "markdown",
   "metadata": {},
   "source": [
    "## Bagging"
   ]
  },
  {
   "cell_type": "markdown",
   "metadata": {},
   "source": [
    "XGBoost already includes regularization that prevents over-fitting, so I don't expect bagging to improve its performance at all."
   ]
  },
  {
   "cell_type": "code",
   "execution_count": 9,
   "metadata": {},
   "outputs": [],
   "source": [
    "from sklearn.ensemble import BaggingClassifier"
   ]
  },
  {
   "cell_type": "code",
   "execution_count": 10,
   "metadata": {},
   "outputs": [
    {
     "data": {
      "text/plain": [
       "{'accuracy': 0.8022895622895623,\n",
       " 'f1': 0.7899042260108825,\n",
       " 'precision': 0.7954930143029152,\n",
       " 'recall': 0.8022895622895623}"
      ]
     },
     "execution_count": 10,
     "metadata": {},
     "output_type": "execute_result"
    }
   ],
   "source": [
    "xgb_bagged = BaggingClassifier(XGBClassifier(eta=0.05, gamma=0, max_depth=12, min_child_weight=0.75, subsample=0.75))  \n",
    "xgb_bagged.fit(X_train, y_train)\n",
    "get_metrics(y_test, X_test, xgb_bagged)"
   ]
  },
  {
   "cell_type": "markdown",
   "metadata": {},
   "source": [
    "## Confusion Matrix"
   ]
  },
  {
   "cell_type": "code",
   "execution_count": 5,
   "metadata": {},
   "outputs": [],
   "source": [
    "import matplotlib.pyplot as plt\n",
    "from sklearn.metrics import plot_confusion_matrix"
   ]
  },
  {
   "cell_type": "code",
   "execution_count": 7,
   "metadata": {},
   "outputs": [
    {
     "data": {
      "image/png": "[encoded data removed]",
      "text/plain": [
       "<Figure size 432x288 with 2 Axes>"
      ]
     },
     "metadata": {
      "needs_background": "light"
     },
     "output_type": "display_data"
    }
   ],
   "source": [
    "plot_confusion_matrix(xgb_tuned, X_test, y_test, display_labels=['functional', 'needs repair', 'nonfunctional'], cmap=plt.cm.Blues)\n",
    "plt.title('XGBoost')\n",
    "plt.tight_layout()\n",
    "plt.savefig('../visualizations/xgboost-confusion-matrix.png')\n",
    "plt.show()"
   ]
  },
  {
   "cell_type": "markdown",
   "metadata": {},
   "source": [
    "## Conclusions"
   ]
  },
  {
   "cell_type": "markdown",
   "metadata": {},
   "source": [
    "As I thought, tuning the hyperparameters of XGBoost improved its performance significantly - it is not my best performing model. It also has a host of other parameters that can be tuned, so that would be one avenue to investigate if returning to improve this upon the model at a later time. Despite not focusing on other metrics, This XGBoost model also has better precision and recall than my other models."
   ]
  }
 ],
 "metadata": {
  "kernelspec": {
   "display_name": "learn-env",
   "language": "python",
   "name": "learn-env"
  },
  "language_info": {
   "codemirror_mode": {
    "name": "ipython",
    "version": 3
   },
   "file_extension": ".py",
   "mimetype": "text/x-python",
   "name": "python",
   "nbconvert_exporter": "python",
   "pygments_lexer": "ipython3",
   "version": "3.6.9"
  }
 },
 "nbformat": 4,
 "nbformat_minor": 4
}
